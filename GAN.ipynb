{
  "nbformat": 4,
  "nbformat_minor": 0,
  "metadata": {
    "colab": {
      "name": "GAN.ipynb",
      "provenance": [],
      "authorship_tag": "ABX9TyPJP3YLSh3i8vkBIh0A31Jr",
      "include_colab_link": true
    },
    "kernelspec": {
      "name": "python3",
      "display_name": "Python 3"
    }
  },
  "cells": [
    {
      "cell_type": "markdown",
      "metadata": {
        "id": "view-in-github",
        "colab_type": "text"
      },
      "source": [
        "<a href=\"https://colab.research.google.com/github/Kira8045/CGAN/blob/master/GAN.ipynb\" target=\"_parent\"><img src=\"https://colab.research.google.com/assets/colab-badge.svg\" alt=\"Open In Colab\"/></a>"
      ]
    },
    {
      "cell_type": "code",
      "metadata": {
        "id": "JUW2miJKTlqF",
        "colab_type": "code",
        "outputId": "6b856b22-b569-47a9-d9ef-c99e8e68d88b",
        "colab": {
          "base_uri": "https://localhost:8080/",
          "height": 133
        }
      },
      "source": [
        "import tensorflow as tf\n",
        "tf.disable_v2_behavior()\n",
        "import matplotlib.pyplot as plt\n",
        "import numpy as np"
      ],
      "execution_count": 0,
      "outputs": [
        {
          "output_type": "display_data",
          "data": {
            "text/html": [
              "<p style=\"color: red;\">\n",
              "The default version of TensorFlow in Colab will soon switch to TensorFlow 2.x.<br>\n",
              "We recommend you <a href=\"https://www.tensorflow.org/guide/migrate\" target=\"_blank\">upgrade</a> now \n",
              "or ensure your notebook will continue to use TensorFlow 1.x via the <code>%tensorflow_version 1.x</code> magic:\n",
              "<a href=\"https://colab.research.google.com/notebooks/tensorflow_version.ipynb\" target=\"_blank\">more info</a>.</p>\n"
            ],
            "text/plain": [
              "<IPython.core.display.HTML object>"
            ]
          },
          "metadata": {
            "tags": []
          }
        },
        {
          "output_type": "stream",
          "text": [
            "WARNING:tensorflow:From /usr/local/lib/python3.6/dist-packages/tensorflow_core/python/compat/v2_compat.py:68: disable_resource_variables (from tensorflow.python.ops.variable_scope) is deprecated and will be removed in a future version.\n",
            "Instructions for updating:\n",
            "non-resource variables are not supported in the long term\n"
          ],
          "name": "stdout"
        }
      ]
    },
    {
      "cell_type": "code",
      "metadata": {
        "id": "S138RJI_TvHy",
        "colab_type": "code",
        "outputId": "700ee9b9-89fd-42e2-fdc5-60f964e2850b",
        "colab": {
          "base_uri": "https://localhost:8080/",
          "height": 588
        }
      },
      "source": [
        "!wget http://fashion-mnist.s3-website.eu-central-1.amazonaws.com/train-images-idx3-ubyte.gz\n",
        "!wget http://fashion-mnist.s3-website.eu-central-1.amazonaws.com/train-images-idx1-ubyte.gz\n",
        "!wget http://fashion-mnist.s3-website.eu-central-1.amazonaws.com/t10k-images-idx3-ubyte.gz\n",
        "!wget http://fashion-mnist.s3-website.eu-central-1.amazonaws.com/t10k-images-idx1-ubyte.gz\n",
        "\n"
      ],
      "execution_count": 0,
      "outputs": [
        {
          "output_type": "stream",
          "text": [
            "--2020-02-08 20:58:36--  http://fashion-mnist.s3-website.eu-central-1.amazonaws.com/train-images-idx3-ubyte.gz\n",
            "Resolving fashion-mnist.s3-website.eu-central-1.amazonaws.com (fashion-mnist.s3-website.eu-central-1.amazonaws.com)... 52.219.73.118\n",
            "Connecting to fashion-mnist.s3-website.eu-central-1.amazonaws.com (fashion-mnist.s3-website.eu-central-1.amazonaws.com)|52.219.73.118|:80... connected.\n",
            "HTTP request sent, awaiting response... 200 OK\n",
            "Length: 26421880 (25M) [binary/octet-stream]\n",
            "Saving to: ‘train-images-idx3-ubyte.gz’\n",
            "\n",
            "train-images-idx3-u 100%[===================>]  25.20M  11.8MB/s    in 2.1s    \n",
            "\n",
            "2020-02-08 20:58:38 (11.8 MB/s) - ‘train-images-idx3-ubyte.gz’ saved [26421880/26421880]\n",
            "\n",
            "--2020-02-08 20:58:40--  http://fashion-mnist.s3-website.eu-central-1.amazonaws.com/train-images-idx1-ubyte.gz\n",
            "Resolving fashion-mnist.s3-website.eu-central-1.amazonaws.com (fashion-mnist.s3-website.eu-central-1.amazonaws.com)... 52.219.72.228\n",
            "Connecting to fashion-mnist.s3-website.eu-central-1.amazonaws.com (fashion-mnist.s3-website.eu-central-1.amazonaws.com)|52.219.72.228|:80... connected.\n",
            "HTTP request sent, awaiting response... 404 Not Found\n",
            "2020-02-08 20:58:40 ERROR 404: Not Found.\n",
            "\n",
            "--2020-02-08 20:58:42--  http://fashion-mnist.s3-website.eu-central-1.amazonaws.com/t10k-images-idx3-ubyte.gz\n",
            "Resolving fashion-mnist.s3-website.eu-central-1.amazonaws.com (fashion-mnist.s3-website.eu-central-1.amazonaws.com)... 52.219.72.228\n",
            "Connecting to fashion-mnist.s3-website.eu-central-1.amazonaws.com (fashion-mnist.s3-website.eu-central-1.amazonaws.com)|52.219.72.228|:80... connected.\n",
            "HTTP request sent, awaiting response... 200 OK\n",
            "Length: 4422102 (4.2M) [binary/octet-stream]\n",
            "Saving to: ‘t10k-images-idx3-ubyte.gz’\n",
            "\n",
            "t10k-images-idx3-ub 100%[===================>]   4.22M  3.53MB/s    in 1.2s    \n",
            "\n",
            "2020-02-08 20:58:43 (3.53 MB/s) - ‘t10k-images-idx3-ubyte.gz’ saved [4422102/4422102]\n",
            "\n",
            "--2020-02-08 20:58:45--  http://fashion-mnist.s3-website.eu-central-1.amazonaws.com/t10k-images-idx1-ubyte.gz\n",
            "Resolving fashion-mnist.s3-website.eu-central-1.amazonaws.com (fashion-mnist.s3-website.eu-central-1.amazonaws.com)... 52.219.74.62\n",
            "Connecting to fashion-mnist.s3-website.eu-central-1.amazonaws.com (fashion-mnist.s3-website.eu-central-1.amazonaws.com)|52.219.74.62|:80... connected.\n",
            "HTTP request sent, awaiting response... 404 Not Found\n",
            "2020-02-08 20:58:45 ERROR 404: Not Found.\n",
            "\n"
          ],
          "name": "stdout"
        }
      ]
    },
    {
      "cell_type": "code",
      "metadata": {
        "id": "Z8NkYGBPUL8v",
        "colab_type": "code",
        "colab": {}
      },
      "source": [
        "!mkdir MNIST_Fashion\n",
        "! cp *.gz MNIST_Fashion/"
      ],
      "execution_count": 0,
      "outputs": []
    },
    {
      "cell_type": "code",
      "metadata": {
        "id": "uOHcPGTuUmN3",
        "colab_type": "code",
        "outputId": "05bfe541-6e53-4027-f5a8-870f866ec13a",
        "colab": {
          "base_uri": "https://localhost:8080/",
          "height": 440
        }
      },
      "source": [
        "from tensorflow.examples.tutorials.mnist import input_data\n",
        "mnist = input_data.read_data_sets(\"MNIST_Fashion/\")"
      ],
      "execution_count": 0,
      "outputs": [
        {
          "output_type": "stream",
          "text": [
            "WARNING:tensorflow:From <ipython-input-4-88d0002d51e1>:2: read_data_sets (from tensorflow.contrib.learn.python.learn.datasets.mnist) is deprecated and will be removed in a future version.\n",
            "Instructions for updating:\n",
            "Please use alternatives such as official/mnist/dataset.py from tensorflow/models.\n",
            "WARNING:tensorflow:From /usr/local/lib/python3.6/dist-packages/tensorflow_core/contrib/learn/python/learn/datasets/mnist.py:260: maybe_download (from tensorflow.contrib.learn.python.learn.datasets.base) is deprecated and will be removed in a future version.\n",
            "Instructions for updating:\n",
            "Please write your own downloading logic.\n",
            "WARNING:tensorflow:From /usr/local/lib/python3.6/dist-packages/tensorflow_core/contrib/learn/python/learn/datasets/mnist.py:262: extract_images (from tensorflow.contrib.learn.python.learn.datasets.mnist) is deprecated and will be removed in a future version.\n",
            "Instructions for updating:\n",
            "Please use tf.data to implement this functionality.\n",
            "Extracting MNIST_Fashion/train-images-idx3-ubyte.gz\n",
            "WARNING:tensorflow:From /usr/local/lib/python3.6/dist-packages/tensorflow_core/contrib/learn/python/learn/datasets/base.py:252: _internal_retry.<locals>.wrap.<locals>.wrapped_fn (from tensorflow.contrib.learn.python.learn.datasets.base) is deprecated and will be removed in a future version.\n",
            "Instructions for updating:\n",
            "Please use urllib or similar directly.\n",
            "Successfully downloaded train-labels-idx1-ubyte.gz 28881 bytes.\n",
            "WARNING:tensorflow:From /usr/local/lib/python3.6/dist-packages/tensorflow_core/contrib/learn/python/learn/datasets/mnist.py:267: extract_labels (from tensorflow.contrib.learn.python.learn.datasets.mnist) is deprecated and will be removed in a future version.\n",
            "Instructions for updating:\n",
            "Please use tf.data to implement this functionality.\n",
            "Extracting MNIST_Fashion/train-labels-idx1-ubyte.gz\n",
            "Extracting MNIST_Fashion/t10k-images-idx3-ubyte.gz\n",
            "Successfully downloaded t10k-labels-idx1-ubyte.gz 4542 bytes.\n",
            "Extracting MNIST_Fashion/t10k-labels-idx1-ubyte.gz\n",
            "WARNING:tensorflow:From /usr/local/lib/python3.6/dist-packages/tensorflow_core/contrib/learn/python/learn/datasets/mnist.py:290: DataSet.__init__ (from tensorflow.contrib.learn.python.learn.datasets.mnist) is deprecated and will be removed in a future version.\n",
            "Instructions for updating:\n",
            "Please use alternatives such as official/mnist/dataset.py from tensorflow/models.\n"
          ],
          "name": "stdout"
        }
      ]
    },
    {
      "cell_type": "code",
      "metadata": {
        "id": "0qas6ihZU0wg",
        "colab_type": "code",
        "colab": {}
      },
      "source": [
        "learning_rate  =0.0002\n",
        "batch_size = 128\n",
        "epochs = 100000\n",
        "\n",
        "image_dim = 784\n",
        "y_dims = 10\n",
        "gen_hidd_dim = 256\n",
        "disc_hidd_dim = 256\n",
        "z_noise_dim = 100\n",
        "\n",
        "def xavier_init(shape):\n",
        "  return tf.random.normal(shape = shape, stddev = 1/tf.sqrt(shape[0]/2.0))"
      ],
      "execution_count": 0,
      "outputs": []
    },
    {
      "cell_type": "code",
      "metadata": {
        "id": "fssxj81eU5Kn",
        "colab_type": "code",
        "colab": {}
      },
      "source": [
        "weights = {\n",
        "    \"disc_H\" : tf.Variable( xavier_init( [ image_dim + y_dims , disc_hidd_dim ] ) ),\n",
        "    \"disc_final\" : tf.Variable( xavier_init( [disc_hidd_dim ,  1] ) ),\n",
        "    \"gen_H\" : tf.Variable(xavier_init([z_noise_dim + y_dims , gen_hidd_dim])),\n",
        "    \"gen_final\" : tf.Variable(xavier_init([gen_hidd_dim  , image_dim]))\n",
        "}\n",
        "bias = {\n",
        "    \"disc_H\" : tf.Variable(xavier_init( [ disc_hidd_dim] )),\n",
        "    \"disc_final\" : tf.Variable(xavier_init( [1] ) ),\n",
        "    \"gen_H\" : tf.Variable(xavier_init( [gen_hidd_dim] )),\n",
        "    \"gen_final\" : tf.Variable(xavier_init( [image_dim] ))\n",
        "}"
      ],
      "execution_count": 0,
      "outputs": []
    },
    {
      "cell_type": "code",
      "metadata": {
        "id": "vldV4j4SYB44",
        "colab_type": "code",
        "colab": {}
      },
      "source": [
        "def Discriminator(x,y):\n",
        "  inputs = tf.concat([x,y],axis = 1)\n",
        "  hidden_layer = tf.nn.relu( tf.add( tf.matmul( inputs,weights[\"disc_H\"]  ) , bias[\"disc_H\"] ) )\n",
        "  final_layer = tf.add(tf.matmul( hidden_layer, weights[\"disc_final\"] ), bias[\"disc_final\"] )\n",
        "  disc_output = tf.nn.sigmoid(final_layer)\n",
        "  return final_layer, disc_output\n",
        "\n",
        "def Generator(x,y):\n",
        "  inputs = tf.concat([x,y],axis = 1)\n",
        "  hidden_layer = tf.nn.relu( tf.add( tf.matmul( inputs,weights[\"gen_H\"]  ) , bias[\"gen_H\"] ) )\n",
        "  final_layer = tf.add(tf.matmul( hidden_layer, weights[\"gen_final\"] ), bias[\"gen_final\"] )\n",
        "  gen_output = tf.nn.sigmoid(final_layer)\n",
        "  return gen_output\n",
        "\n",
        "z_input = tf.placeholder( tf.float32, shape = [ None, z_noise_dim ], name = \"input_noise\")\n",
        "y_input = tf.placeholder(tf.float32, shape= [None, y_dims], name = \"Labels\")\n",
        "x_input = tf.placeholder( tf.float32, shape = [ None, image_dim ], name = \"real_input\")\n",
        "\n",
        "with tf.name_scope(\"Generator\") as scope:\n",
        "  output_gen = Generator(z_input,y_input)\n",
        "\n",
        "with tf.name_scope(\"Discriminator\") as scope:\n",
        "  real_output1_Disc, real_output_Disc = Discriminator(x_input,y_input)\n",
        "  fake_output1_Disc, fake_output_Disc = Discriminator(output_gen,y_input)\n"
      ],
      "execution_count": 0,
      "outputs": []
    },
    {
      "cell_type": "code",
      "metadata": {
        "id": "U7NzROtXaOzC",
        "colab_type": "code",
        "colab": {}
      },
      "source": [
        "with tf.name_scope(\"Discriminator_Loss\") as scope:\n",
        "  Discriminator_Loss = -tf.reduce_mean( tf.log( real_output_Disc + 0.0001 ) + tf.log( 1. - fake_output_Disc + 0.0001 ) )\n",
        "with tf.name_scope(\"Generator_Loss\") as scope:\n",
        "  Generator_Loss = tf.reduce_mean( tf.log( fake_output_Disc + 0.0001 ) )\n",
        "\n",
        "Disc_loss_total = tf.summary.scalar( \"Disc_Loss_total\", Discriminator_Loss )\n",
        "Gen_loss_total = tf.summary.scalar( \"Gen_Loss_total\", Generator_Loss )\n"
      ],
      "execution_count": 0,
      "outputs": []
    },
    {
      "cell_type": "code",
      "metadata": {
        "id": "a9yATp1Hc4Ok",
        "colab_type": "code",
        "outputId": "0eb09da2-a6e1-4110-f52f-277f36cd5a3d",
        "colab": {
          "base_uri": "https://localhost:8080/",
          "height": 87
        }
      },
      "source": [
        "with tf.name_scope(\"Discriminator_Loss\") as scope:\n",
        "  Disc_real_loss = tf.reduce_mean( tf.nn.sigmoid_cross_entropy_with_logits( logits = real_output1_Disc, labels = tf.ones_like(real_output1_Disc) ) )\n",
        "  Disc_fake_loss = tf.reduce_mean( tf.nn.sigmoid_cross_entropy_with_logits( logits = fake_output1_Disc, labels = tf.zeros_like(fake_output1_Disc) ) )\n",
        "  Discriminator_Loss = Disc_real_loss + Disc_fake_loss\n",
        "with tf.name_scope(\"Generator_Loss\") as scope:\n",
        "  Generator_Loss = tf.reduce_mean( tf.nn.sigmoid_cross_entropy_with_logits( logits = fake_output1_Disc, labels= tf.ones_like(fake_output1_Disc) ) )\n",
        "\n",
        "Disc_loss_real_summary = tf.summary.scalar( \"Discriminator_real_loss\",Disc_real_loss )\n",
        "Disc_loss_fake_summary = tf.summary.scalar( \"Discriminator_fake_loss\",Disc_fake_loss )\n",
        "Disc_loss_summary = tf.summary.scalar( \"Discriminator_total_loss\", Discriminator_Loss )\n",
        "Disc_loss_total = tf.summary.merge( [ Disc_loss_real_summary, Disc_loss_fake_summary, Disc_loss_summary] )\n",
        "Gen_loss_total = tf.summary.scalar( \"Generator_Loss\", Generator_Loss )"
      ],
      "execution_count": 0,
      "outputs": [
        {
          "output_type": "stream",
          "text": [
            "WARNING:tensorflow:From /usr/local/lib/python3.6/dist-packages/tensorflow_core/python/ops/nn_impl.py:183: where (from tensorflow.python.ops.array_ops) is deprecated and will be removed in a future version.\n",
            "Instructions for updating:\n",
            "Use tf.where in 2.0, which has the same broadcast rule as np.where\n"
          ],
          "name": "stdout"
        }
      ]
    },
    {
      "cell_type": "code",
      "metadata": {
        "id": "aGB8O1UGlUyA",
        "colab_type": "code",
        "colab": {}
      },
      "source": [
        "import tensorflow_probability as tfp\n",
        "Generator_var = [ weights[\"gen_H\"], weights[\"gen_final\"], bias[\"gen_H\"], bias[\"gen_final\"] ]\n",
        "Discriminator_var = [ weights[\"disc_H\"], weights[\"disc_final\"], bias[\"disc_H\"], bias[\"disc_final\"] ]\n",
        "\n",
        "with tf.name_scope(\"Optimizer_Discriminator\") as scope:\n",
        "  Discriminator_optimize = tf.train.AdamOptimizer( learning_rate= learning_rate ).minimize(Discriminator_Loss, var_list = Discriminator_var)\n",
        "\n",
        "with tf.name_scope(\"Optimizer_Generator\") as scope:\n",
        "  Generator_optimize = tf.train.AdamOptimizer( learning_rate= learning_rate).minimize( Generator_Loss, var_list = Generator_var ) \n"
      ],
      "execution_count": 0,
      "outputs": []
    },
    {
      "cell_type": "code",
      "metadata": {
        "id": "ccwOfZxfpLjy",
        "colab_type": "code",
        "outputId": "6d2e4378-3f01-4daa-a68c-c57534070241",
        "colab": {
          "base_uri": "https://localhost:8080/",
          "height": 67
        }
      },
      "source": [
        "init = tf.global_variables_initializer()\n",
        "\n",
        "sess = tf.Session()\n",
        "sess.run(init)\n",
        "writer = tf.summary.FileWriter(\"./log\", sess.graph)\n",
        "for epoch in range(epochs):\n",
        "  x_batch, y_label = mnist.train.next_batch(batch_size)\n",
        "  y_label = tf.one_hot(y_label,depth = 10).eval(session = sess)\n",
        "  z_noise = np.random.uniform( -1, 1, size = [batch_size, z_noise_dim] )\n",
        "  _, Disc_loss_epoch = sess.run( [ Discriminator_optimize, Discriminator_Loss ], feed_dict = {x_input :x_batch, y_input: y_label, z_input : z_noise } )\n",
        "  _,Gen_loss_epoch = sess.run([Generator_optimize, Generator_Loss] , feed_dict = {z_input: z_noise, y_input: y_label} )\n",
        "\n",
        "  summary_Disc_Loss = sess.run(Disc_loss_total, feed_dict = { x_input : x_batch, z_input : z_noise , y_input: y_label})\n",
        "  writer.add_summary(summary_Disc_Loss, epoch)\n",
        "\n",
        "  summary_Gen_Loss = sess.run(Gen_loss_total, feed_dict = { z_input : z_noise, y_input: y_label })\n",
        "  writer.add_summary(summary_Gen_Loss, epoch)\n",
        "  if epoch%2000 ==0:\n",
        "    print( \"Steps\", epoch, \"/tGenerator_loss : \", Gen_loss_epoch, \"\\tDiscriminator_loss: \",Disc_loss_epoch )\n",
        "  "
      ],
      "execution_count": 0,
      "outputs": [
        {
          "output_type": "stream",
          "text": [
            "Steps 0 /tGenerator_loss :  0.11115207 \tDiscriminator_loss:  3.116878\n",
            "Steps 2000 /tGenerator_loss :  2.8694222 \tDiscriminator_loss:  0.2568032\n",
            "Steps 4000 /tGenerator_loss :  2.1654093 \tDiscriminator_loss:  0.37377062\n"
          ],
          "name": "stdout"
        }
      ]
    },
    {
      "cell_type": "code",
      "metadata": {
        "id": "GBXuT8Ky5ZdA",
        "colab_type": "code",
        "outputId": "38ea6a54-8e45-462c-c214-f2d6a7744566",
        "colab": {
          "base_uri": "https://localhost:8080/",
          "height": 377
        }
      },
      "source": [
        "n = 6\n",
        "canvas = np.empty ((28 *n,  28 *n ))\n",
        "for i in range(n):\n",
        "  z_noise = np.random.uniform(-1, 1, size = [batch_size, z_noise_dim])\n",
        "  g = sess.run(output_gen, feed_dict = {z_input : z_noise})\n",
        "\n",
        "  g = -1 * (g-1)\n",
        "  for j in range(n):\n",
        "    canvas[ i * 28: (i+1)*28, j*28 : (j+1)*28] = g[j].reshape([28,28])\n",
        "  \n",
        "plt.figure( figsize = (n, n) )\n",
        "plt.imshow(canvas, origin = \"upper\", cmap = \"gray\")\n",
        "plt.show()"
      ],
      "execution_count": 0,
      "outputs": [
        {
          "output_type": "display_data",
          "data": {
            "image/png": "[encoded data removed]",
            "text/plain": [
              "<Figure size 432x432 with 1 Axes>"
            ]
          },
          "metadata": {
            "tags": []
          }
        }
      ]
    },
    {
      "cell_type": "code",
      "metadata": {
        "id": "cTVJTSP_8AMN",
        "colab_type": "code",
        "colab": {}
      },
      "source": [
        ""
      ],
      "execution_count": 0,
      "outputs": []
    }
  ]
}